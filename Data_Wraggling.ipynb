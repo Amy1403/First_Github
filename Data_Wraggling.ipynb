{
  "metadata": {
    "kernelspec": {
      "name": "python",
      "display_name": "Python (Pyodide)",
      "language": "python"
    },
    "language_info": {
      "codemirror_mode": {
        "name": "python",
        "version": 3
      },
      "file_extension": ".py",
      "mimetype": "text/x-python",
      "name": "python",
      "nbconvert_exporter": "python",
      "pygments_lexer": "ipython3",
      "version": "3.8"
    }
  },
  "nbformat_minor": 4,
  "nbformat": 4,
  "cells": [
    {
      "cell_type": "code",
      "source": "import pandas as pd\nimport numpy as np\nimport matplotlib as plt\nfrom pyodide.http import pyfetch",
      "metadata": {
        "trusted": true
      },
      "outputs": [],
      "execution_count": 6
    },
    {
      "cell_type": "code",
      "source": "async def download(url, filename):\n    response = await pyfetch(url)\n    if response.status == 200:\n        with open(filename, 'wb') as f:\n            f.write(await response.bytes())",
      "metadata": {
        "trusted": true
      },
      "outputs": [],
      "execution_count": 7
    },
    {
      "cell_type": "code",
      "source": "from pyodide.http import pyfetch\n\nasync def download(url, filename):\n    response = await pyfetch(url)\n    if response.status == 200:\n        with open(filename, \"wb\") as f:\n            f.write(await response.bytes())",
      "metadata": {
        "trusted": true
      },
      "outputs": [],
      "execution_count": 8
    },
    {
      "cell_type": "code",
      "source": "file_path = \"https://cf-courses-data.s3.us.cloud-object-storage.appdomain.cloud/IBMDeveloperSkillsNetwork-DA0101EN-Coursera/laptop_pricing_dataset_mod1.csv\"",
      "metadata": {
        "trusted": true
      },
      "outputs": [],
      "execution_count": 9
    },
    {
      "cell_type": "code",
      "source": "await download(file_path, \"laptops.csv\")\nfile_name= \"laptops.csv\"",
      "metadata": {
        "trusted": true
      },
      "outputs": [],
      "execution_count": 10
    },
    {
      "cell_type": "code",
      "source": "df = pd.read_csv(file_name, header=0)\ndf",
      "metadata": {
        "trusted": true
      },
      "outputs": [
        {
          "execution_count": 11,
          "output_type": "execute_result",
          "data": {
            "text/plain": "     Unnamed: 0 Manufacturer  Category     Screen  GPU  OS  CPU_core  \\\n0             0         Acer         4  IPS Panel    2   1         5   \n1             1         Dell         3    Full HD    1   1         3   \n2             2         Dell         3    Full HD    1   1         7   \n3             3         Dell         4  IPS Panel    2   1         5   \n4             4           HP         4    Full HD    2   1         7   \n..          ...          ...       ...        ...  ...  ..       ...   \n233         233       Lenovo         4  IPS Panel    2   1         7   \n234         234      Toshiba         3    Full HD    2   1         5   \n235         235       Lenovo         4  IPS Panel    2   1         5   \n236         236       Lenovo         3    Full HD    3   1         5   \n237         237      Toshiba         3    Full HD    2   1         5   \n\n     Screen_Size_cm  CPU_frequency  RAM_GB  Storage_GB_SSD  Weight_kg  Price  \n0            35.560            1.6       8             256       1.60    978  \n1            39.624            2.0       4             256       2.20    634  \n2            39.624            2.7       8             256       2.20    946  \n3            33.782            1.6       8             128       1.22   1244  \n4            39.624            1.8       8             256       1.91    837  \n..              ...            ...     ...             ...        ...    ...  \n233          35.560            2.6       8             256       1.70   1891  \n234          33.782            2.4       8             256       1.20   1950  \n235          30.480            2.6       8             256       1.36   2236  \n236          39.624            2.5       6             256       2.40    883  \n237          35.560            2.3       8             256       1.95   1499  \n\n[238 rows x 13 columns]",
            "text/html": "<div>\n<style scoped>\n    .dataframe tbody tr th:only-of-type {\n        vertical-align: middle;\n    }\n\n    .dataframe tbody tr th {\n        vertical-align: top;\n    }\n\n    .dataframe thead th {\n        text-align: right;\n    }\n</style>\n<table border=\"1\" class=\"dataframe\">\n  <thead>\n    <tr style=\"text-align: right;\">\n      <th></th>\n      <th>Unnamed: 0</th>\n      <th>Manufacturer</th>\n      <th>Category</th>\n      <th>Screen</th>\n      <th>GPU</th>\n      <th>OS</th>\n      <th>CPU_core</th>\n      <th>Screen_Size_cm</th>\n      <th>CPU_frequency</th>\n      <th>RAM_GB</th>\n      <th>Storage_GB_SSD</th>\n      <th>Weight_kg</th>\n      <th>Price</th>\n    </tr>\n  </thead>\n  <tbody>\n    <tr>\n      <th>0</th>\n      <td>0</td>\n      <td>Acer</td>\n      <td>4</td>\n      <td>IPS Panel</td>\n      <td>2</td>\n      <td>1</td>\n      <td>5</td>\n      <td>35.560</td>\n      <td>1.6</td>\n      <td>8</td>\n      <td>256</td>\n      <td>1.60</td>\n      <td>978</td>\n    </tr>\n    <tr>\n      <th>1</th>\n      <td>1</td>\n      <td>Dell</td>\n      <td>3</td>\n      <td>Full HD</td>\n      <td>1</td>\n      <td>1</td>\n      <td>3</td>\n      <td>39.624</td>\n      <td>2.0</td>\n      <td>4</td>\n      <td>256</td>\n      <td>2.20</td>\n      <td>634</td>\n    </tr>\n    <tr>\n      <th>2</th>\n      <td>2</td>\n      <td>Dell</td>\n      <td>3</td>\n      <td>Full HD</td>\n      <td>1</td>\n      <td>1</td>\n      <td>7</td>\n      <td>39.624</td>\n      <td>2.7</td>\n      <td>8</td>\n      <td>256</td>\n      <td>2.20</td>\n      <td>946</td>\n    </tr>\n    <tr>\n      <th>3</th>\n      <td>3</td>\n      <td>Dell</td>\n      <td>4</td>\n      <td>IPS Panel</td>\n      <td>2</td>\n      <td>1</td>\n      <td>5</td>\n      <td>33.782</td>\n      <td>1.6</td>\n      <td>8</td>\n      <td>128</td>\n      <td>1.22</td>\n      <td>1244</td>\n    </tr>\n    <tr>\n      <th>4</th>\n      <td>4</td>\n      <td>HP</td>\n      <td>4</td>\n      <td>Full HD</td>\n      <td>2</td>\n      <td>1</td>\n      <td>7</td>\n      <td>39.624</td>\n      <td>1.8</td>\n      <td>8</td>\n      <td>256</td>\n      <td>1.91</td>\n      <td>837</td>\n    </tr>\n    <tr>\n      <th>...</th>\n      <td>...</td>\n      <td>...</td>\n      <td>...</td>\n      <td>...</td>\n      <td>...</td>\n      <td>...</td>\n      <td>...</td>\n      <td>...</td>\n      <td>...</td>\n      <td>...</td>\n      <td>...</td>\n      <td>...</td>\n      <td>...</td>\n    </tr>\n    <tr>\n      <th>233</th>\n      <td>233</td>\n      <td>Lenovo</td>\n      <td>4</td>\n      <td>IPS Panel</td>\n      <td>2</td>\n      <td>1</td>\n      <td>7</td>\n      <td>35.560</td>\n      <td>2.6</td>\n      <td>8</td>\n      <td>256</td>\n      <td>1.70</td>\n      <td>1891</td>\n    </tr>\n    <tr>\n      <th>234</th>\n      <td>234</td>\n      <td>Toshiba</td>\n      <td>3</td>\n      <td>Full HD</td>\n      <td>2</td>\n      <td>1</td>\n      <td>5</td>\n      <td>33.782</td>\n      <td>2.4</td>\n      <td>8</td>\n      <td>256</td>\n      <td>1.20</td>\n      <td>1950</td>\n    </tr>\n    <tr>\n      <th>235</th>\n      <td>235</td>\n      <td>Lenovo</td>\n      <td>4</td>\n      <td>IPS Panel</td>\n      <td>2</td>\n      <td>1</td>\n      <td>5</td>\n      <td>30.480</td>\n      <td>2.6</td>\n      <td>8</td>\n      <td>256</td>\n      <td>1.36</td>\n      <td>2236</td>\n    </tr>\n    <tr>\n      <th>236</th>\n      <td>236</td>\n      <td>Lenovo</td>\n      <td>3</td>\n      <td>Full HD</td>\n      <td>3</td>\n      <td>1</td>\n      <td>5</td>\n      <td>39.624</td>\n      <td>2.5</td>\n      <td>6</td>\n      <td>256</td>\n      <td>2.40</td>\n      <td>883</td>\n    </tr>\n    <tr>\n      <th>237</th>\n      <td>237</td>\n      <td>Toshiba</td>\n      <td>3</td>\n      <td>Full HD</td>\n      <td>2</td>\n      <td>1</td>\n      <td>5</td>\n      <td>35.560</td>\n      <td>2.3</td>\n      <td>8</td>\n      <td>256</td>\n      <td>1.95</td>\n      <td>1499</td>\n    </tr>\n  </tbody>\n</table>\n<p>238 rows × 13 columns</p>\n</div>"
          },
          "metadata": {}
        }
      ],
      "execution_count": 11
    },
    {
      "cell_type": "code",
      "source": "df.info()",
      "metadata": {
        "trusted": true
      },
      "outputs": [
        {
          "name": "stdout",
          "text": "<class 'pandas.core.frame.DataFrame'>\nRangeIndex: 238 entries, 0 to 237\nData columns (total 13 columns):\n #   Column          Non-Null Count  Dtype  \n---  ------          --------------  -----  \n 0   Unnamed: 0      238 non-null    int64  \n 1   Manufacturer    238 non-null    object \n 2   Category        238 non-null    int64  \n 3   Screen          238 non-null    object \n 4   GPU             238 non-null    int64  \n 5   OS              238 non-null    int64  \n 6   CPU_core        238 non-null    int64  \n 7   Screen_Size_cm  234 non-null    float64\n 8   CPU_frequency   238 non-null    float64\n 9   RAM_GB          238 non-null    int64  \n 10  Storage_GB_SSD  238 non-null    int64  \n 11  Weight_kg       233 non-null    float64\n 12  Price           238 non-null    int64  \ndtypes: float64(3), int64(8), object(2)\nmemory usage: 22.4+ KB\n",
          "output_type": "stream"
        }
      ],
      "execution_count": 12
    },
    {
      "cell_type": "code",
      "source": "df.head()",
      "metadata": {
        "trusted": true
      },
      "outputs": [
        {
          "execution_count": 13,
          "output_type": "execute_result",
          "data": {
            "text/plain": "   Unnamed: 0 Manufacturer  Category     Screen  GPU  OS  CPU_core  \\\n0           0         Acer         4  IPS Panel    2   1         5   \n1           1         Dell         3    Full HD    1   1         3   \n2           2         Dell         3    Full HD    1   1         7   \n3           3         Dell         4  IPS Panel    2   1         5   \n4           4           HP         4    Full HD    2   1         7   \n\n   Screen_Size_cm  CPU_frequency  RAM_GB  Storage_GB_SSD  Weight_kg  Price  \n0          35.560            1.6       8             256       1.60    978  \n1          39.624            2.0       4             256       2.20    634  \n2          39.624            2.7       8             256       2.20    946  \n3          33.782            1.6       8             128       1.22   1244  \n4          39.624            1.8       8             256       1.91    837  ",
            "text/html": "<div>\n<style scoped>\n    .dataframe tbody tr th:only-of-type {\n        vertical-align: middle;\n    }\n\n    .dataframe tbody tr th {\n        vertical-align: top;\n    }\n\n    .dataframe thead th {\n        text-align: right;\n    }\n</style>\n<table border=\"1\" class=\"dataframe\">\n  <thead>\n    <tr style=\"text-align: right;\">\n      <th></th>\n      <th>Unnamed: 0</th>\n      <th>Manufacturer</th>\n      <th>Category</th>\n      <th>Screen</th>\n      <th>GPU</th>\n      <th>OS</th>\n      <th>CPU_core</th>\n      <th>Screen_Size_cm</th>\n      <th>CPU_frequency</th>\n      <th>RAM_GB</th>\n      <th>Storage_GB_SSD</th>\n      <th>Weight_kg</th>\n      <th>Price</th>\n    </tr>\n  </thead>\n  <tbody>\n    <tr>\n      <th>0</th>\n      <td>0</td>\n      <td>Acer</td>\n      <td>4</td>\n      <td>IPS Panel</td>\n      <td>2</td>\n      <td>1</td>\n      <td>5</td>\n      <td>35.560</td>\n      <td>1.6</td>\n      <td>8</td>\n      <td>256</td>\n      <td>1.60</td>\n      <td>978</td>\n    </tr>\n    <tr>\n      <th>1</th>\n      <td>1</td>\n      <td>Dell</td>\n      <td>3</td>\n      <td>Full HD</td>\n      <td>1</td>\n      <td>1</td>\n      <td>3</td>\n      <td>39.624</td>\n      <td>2.0</td>\n      <td>4</td>\n      <td>256</td>\n      <td>2.20</td>\n      <td>634</td>\n    </tr>\n    <tr>\n      <th>2</th>\n      <td>2</td>\n      <td>Dell</td>\n      <td>3</td>\n      <td>Full HD</td>\n      <td>1</td>\n      <td>1</td>\n      <td>7</td>\n      <td>39.624</td>\n      <td>2.7</td>\n      <td>8</td>\n      <td>256</td>\n      <td>2.20</td>\n      <td>946</td>\n    </tr>\n    <tr>\n      <th>3</th>\n      <td>3</td>\n      <td>Dell</td>\n      <td>4</td>\n      <td>IPS Panel</td>\n      <td>2</td>\n      <td>1</td>\n      <td>5</td>\n      <td>33.782</td>\n      <td>1.6</td>\n      <td>8</td>\n      <td>128</td>\n      <td>1.22</td>\n      <td>1244</td>\n    </tr>\n    <tr>\n      <th>4</th>\n      <td>4</td>\n      <td>HP</td>\n      <td>4</td>\n      <td>Full HD</td>\n      <td>2</td>\n      <td>1</td>\n      <td>7</td>\n      <td>39.624</td>\n      <td>1.8</td>\n      <td>8</td>\n      <td>256</td>\n      <td>1.91</td>\n      <td>837</td>\n    </tr>\n  </tbody>\n</table>\n</div>"
          },
          "metadata": {}
        }
      ],
      "execution_count": 13
    },
    {
      "cell_type": "code",
      "source": "df['Screen_Size_cm'] = np.round(df['Screen_Size_cm'],2)",
      "metadata": {
        "trusted": true
      },
      "outputs": [],
      "execution_count": 14
    },
    {
      "cell_type": "code",
      "source": "df.head()",
      "metadata": {
        "trusted": true
      },
      "outputs": [
        {
          "execution_count": 15,
          "output_type": "execute_result",
          "data": {
            "text/plain": "   Unnamed: 0 Manufacturer  Category     Screen  GPU  OS  CPU_core  \\\n0           0         Acer         4  IPS Panel    2   1         5   \n1           1         Dell         3    Full HD    1   1         3   \n2           2         Dell         3    Full HD    1   1         7   \n3           3         Dell         4  IPS Panel    2   1         5   \n4           4           HP         4    Full HD    2   1         7   \n\n   Screen_Size_cm  CPU_frequency  RAM_GB  Storage_GB_SSD  Weight_kg  Price  \n0           35.56            1.6       8             256       1.60    978  \n1           39.62            2.0       4             256       2.20    634  \n2           39.62            2.7       8             256       2.20    946  \n3           33.78            1.6       8             128       1.22   1244  \n4           39.62            1.8       8             256       1.91    837  ",
            "text/html": "<div>\n<style scoped>\n    .dataframe tbody tr th:only-of-type {\n        vertical-align: middle;\n    }\n\n    .dataframe tbody tr th {\n        vertical-align: top;\n    }\n\n    .dataframe thead th {\n        text-align: right;\n    }\n</style>\n<table border=\"1\" class=\"dataframe\">\n  <thead>\n    <tr style=\"text-align: right;\">\n      <th></th>\n      <th>Unnamed: 0</th>\n      <th>Manufacturer</th>\n      <th>Category</th>\n      <th>Screen</th>\n      <th>GPU</th>\n      <th>OS</th>\n      <th>CPU_core</th>\n      <th>Screen_Size_cm</th>\n      <th>CPU_frequency</th>\n      <th>RAM_GB</th>\n      <th>Storage_GB_SSD</th>\n      <th>Weight_kg</th>\n      <th>Price</th>\n    </tr>\n  </thead>\n  <tbody>\n    <tr>\n      <th>0</th>\n      <td>0</td>\n      <td>Acer</td>\n      <td>4</td>\n      <td>IPS Panel</td>\n      <td>2</td>\n      <td>1</td>\n      <td>5</td>\n      <td>35.56</td>\n      <td>1.6</td>\n      <td>8</td>\n      <td>256</td>\n      <td>1.60</td>\n      <td>978</td>\n    </tr>\n    <tr>\n      <th>1</th>\n      <td>1</td>\n      <td>Dell</td>\n      <td>3</td>\n      <td>Full HD</td>\n      <td>1</td>\n      <td>1</td>\n      <td>3</td>\n      <td>39.62</td>\n      <td>2.0</td>\n      <td>4</td>\n      <td>256</td>\n      <td>2.20</td>\n      <td>634</td>\n    </tr>\n    <tr>\n      <th>2</th>\n      <td>2</td>\n      <td>Dell</td>\n      <td>3</td>\n      <td>Full HD</td>\n      <td>1</td>\n      <td>1</td>\n      <td>7</td>\n      <td>39.62</td>\n      <td>2.7</td>\n      <td>8</td>\n      <td>256</td>\n      <td>2.20</td>\n      <td>946</td>\n    </tr>\n    <tr>\n      <th>3</th>\n      <td>3</td>\n      <td>Dell</td>\n      <td>4</td>\n      <td>IPS Panel</td>\n      <td>2</td>\n      <td>1</td>\n      <td>5</td>\n      <td>33.78</td>\n      <td>1.6</td>\n      <td>8</td>\n      <td>128</td>\n      <td>1.22</td>\n      <td>1244</td>\n    </tr>\n    <tr>\n      <th>4</th>\n      <td>4</td>\n      <td>HP</td>\n      <td>4</td>\n      <td>Full HD</td>\n      <td>2</td>\n      <td>1</td>\n      <td>7</td>\n      <td>39.62</td>\n      <td>1.8</td>\n      <td>8</td>\n      <td>256</td>\n      <td>1.91</td>\n      <td>837</td>\n    </tr>\n  </tbody>\n</table>\n</div>"
          },
          "metadata": {}
        }
      ],
      "execution_count": 15
    },
    {
      "cell_type": "code",
      "source": "missing_data = df.isnull()\nmissing_data.head",
      "metadata": {
        "trusted": true
      },
      "outputs": [
        {
          "execution_count": 16,
          "output_type": "execute_result",
          "data": {
            "text/plain": "<bound method NDFrame.head of      Unnamed: 0  Manufacturer  Category  Screen    GPU     OS  CPU_core  \\\n0         False         False     False   False  False  False     False   \n1         False         False     False   False  False  False     False   \n2         False         False     False   False  False  False     False   \n3         False         False     False   False  False  False     False   \n4         False         False     False   False  False  False     False   \n..          ...           ...       ...     ...    ...    ...       ...   \n233       False         False     False   False  False  False     False   \n234       False         False     False   False  False  False     False   \n235       False         False     False   False  False  False     False   \n236       False         False     False   False  False  False     False   \n237       False         False     False   False  False  False     False   \n\n     Screen_Size_cm  CPU_frequency  RAM_GB  Storage_GB_SSD  Weight_kg  Price  \n0             False          False   False           False      False  False  \n1             False          False   False           False      False  False  \n2             False          False   False           False      False  False  \n3             False          False   False           False      False  False  \n4             False          False   False           False      False  False  \n..              ...            ...     ...             ...        ...    ...  \n233           False          False   False           False      False  False  \n234           False          False   False           False      False  False  \n235           False          False   False           False      False  False  \n236           False          False   False           False      False  False  \n237           False          False   False           False      False  False  \n\n[238 rows x 13 columns]>"
          },
          "metadata": {}
        }
      ],
      "execution_count": 16
    },
    {
      "cell_type": "code",
      "source": "for column in missing_data.columns.values.tolist():\n    print(column)\n    print(missing_data[column].value_counts())",
      "metadata": {
        "trusted": true
      },
      "outputs": [
        {
          "name": "stdout",
          "text": "Unnamed: 0\nUnnamed: 0\nFalse    238\nName: count, dtype: int64\nManufacturer\nManufacturer\nFalse    238\nName: count, dtype: int64\nCategory\nCategory\nFalse    238\nName: count, dtype: int64\nScreen\nScreen\nFalse    238\nName: count, dtype: int64\nGPU\nGPU\nFalse    238\nName: count, dtype: int64\nOS\nOS\nFalse    238\nName: count, dtype: int64\nCPU_core\nCPU_core\nFalse    238\nName: count, dtype: int64\nScreen_Size_cm\nScreen_Size_cm\nFalse    234\nTrue       4\nName: count, dtype: int64\nCPU_frequency\nCPU_frequency\nFalse    238\nName: count, dtype: int64\nRAM_GB\nRAM_GB\nFalse    238\nName: count, dtype: int64\nStorage_GB_SSD\nStorage_GB_SSD\nFalse    238\nName: count, dtype: int64\nWeight_kg\nWeight_kg\nFalse    233\nTrue       5\nName: count, dtype: int64\nPrice\nPrice\nFalse    238\nName: count, dtype: int64\n",
          "output_type": "stream"
        }
      ],
      "execution_count": 22
    },
    {
      "cell_type": "code",
      "source": "avg_Weightkg = df['Weight_kg'].astype('float').mean(axis=0)\nprint('Avearge of weight:', avg_Weightkg)",
      "metadata": {
        "trusted": true
      },
      "outputs": [
        {
          "name": "stdout",
          "text": "Avearge of weight: 1.8622317596566522\n",
          "output_type": "stream"
        }
      ],
      "execution_count": 23
    },
    {
      "cell_type": "code",
      "source": "df['Weight_kg'].replace(np.nan,avg_Weightkg)",
      "metadata": {
        "trusted": true
      },
      "outputs": [
        {
          "execution_count": 25,
          "output_type": "execute_result",
          "data": {
            "text/plain": "0      1.60\n1      2.20\n2      2.20\n3      1.22\n4      1.91\n       ... \n233    1.70\n234    1.20\n235    1.36\n236    2.40\n237    1.95\nName: Weight_kg, Length: 238, dtype: float64"
          },
          "metadata": {}
        }
      ],
      "execution_count": 25
    },
    {
      "cell_type": "code",
      "source": "Avg_ScreenSizecm = df['Screen_Size_cm'].astype('float').mean(axis = 0)\nprint(Avg_ScreenSizecm)",
      "metadata": {
        "trusted": true
      },
      "outputs": [
        {
          "name": "stdout",
          "text": "37.26786324786325\n",
          "output_type": "stream"
        }
      ],
      "execution_count": 27
    },
    {
      "cell_type": "code",
      "source": "df['Screen_Size_cm'].replace(np.nan,Avg_ScreenSizecm)",
      "metadata": {
        "trusted": true
      },
      "outputs": [
        {
          "execution_count": 28,
          "output_type": "execute_result",
          "data": {
            "text/plain": "0      35.56\n1      39.62\n2      39.62\n3      33.78\n4      39.62\n       ...  \n233    35.56\n234    33.78\n235    30.48\n236    39.62\n237    35.56\nName: Screen_Size_cm, Length: 238, dtype: float64"
          },
          "metadata": {}
        }
      ],
      "execution_count": 28
    },
    {
      "cell_type": "code",
      "source": "df[['Screen_Size_cm', 'Weight_kg']] = df[['Screen_Size_cm', 'Weight_kg']].astype('float')",
      "metadata": {
        "trusted": true
      },
      "outputs": [],
      "execution_count": 36
    },
    {
      "cell_type": "code",
      "source": "df.head()",
      "metadata": {
        "trusted": true
      },
      "outputs": [
        {
          "execution_count": 37,
          "output_type": "execute_result",
          "data": {
            "text/plain": "   Unnamed: 0 Manufacturer  Category     Screen  GPU  OS  CPU_core  \\\n0           0         Acer         4  IPS Panel    2   1         5   \n1           1         Dell         3    Full HD    1   1         3   \n2           2         Dell         3    Full HD    1   1         7   \n3           3         Dell         4  IPS Panel    2   1         5   \n4           4           HP         4    Full HD    2   1         7   \n\n   Screen_Size_cm  CPU_frequency  RAM_GB  Storage_GB_SSD  Weight_kg  Price  \n0           35.56            1.6       8             256       1.60    978  \n1           39.62            2.0       4             256       2.20    634  \n2           39.62            2.7       8             256       2.20    946  \n3           33.78            1.6       8             128       1.22   1244  \n4           39.62            1.8       8             256       1.91    837  ",
            "text/html": "<div>\n<style scoped>\n    .dataframe tbody tr th:only-of-type {\n        vertical-align: middle;\n    }\n\n    .dataframe tbody tr th {\n        vertical-align: top;\n    }\n\n    .dataframe thead th {\n        text-align: right;\n    }\n</style>\n<table border=\"1\" class=\"dataframe\">\n  <thead>\n    <tr style=\"text-align: right;\">\n      <th></th>\n      <th>Unnamed: 0</th>\n      <th>Manufacturer</th>\n      <th>Category</th>\n      <th>Screen</th>\n      <th>GPU</th>\n      <th>OS</th>\n      <th>CPU_core</th>\n      <th>Screen_Size_cm</th>\n      <th>CPU_frequency</th>\n      <th>RAM_GB</th>\n      <th>Storage_GB_SSD</th>\n      <th>Weight_kg</th>\n      <th>Price</th>\n    </tr>\n  </thead>\n  <tbody>\n    <tr>\n      <th>0</th>\n      <td>0</td>\n      <td>Acer</td>\n      <td>4</td>\n      <td>IPS Panel</td>\n      <td>2</td>\n      <td>1</td>\n      <td>5</td>\n      <td>35.56</td>\n      <td>1.6</td>\n      <td>8</td>\n      <td>256</td>\n      <td>1.60</td>\n      <td>978</td>\n    </tr>\n    <tr>\n      <th>1</th>\n      <td>1</td>\n      <td>Dell</td>\n      <td>3</td>\n      <td>Full HD</td>\n      <td>1</td>\n      <td>1</td>\n      <td>3</td>\n      <td>39.62</td>\n      <td>2.0</td>\n      <td>4</td>\n      <td>256</td>\n      <td>2.20</td>\n      <td>634</td>\n    </tr>\n    <tr>\n      <th>2</th>\n      <td>2</td>\n      <td>Dell</td>\n      <td>3</td>\n      <td>Full HD</td>\n      <td>1</td>\n      <td>1</td>\n      <td>7</td>\n      <td>39.62</td>\n      <td>2.7</td>\n      <td>8</td>\n      <td>256</td>\n      <td>2.20</td>\n      <td>946</td>\n    </tr>\n    <tr>\n      <th>3</th>\n      <td>3</td>\n      <td>Dell</td>\n      <td>4</td>\n      <td>IPS Panel</td>\n      <td>2</td>\n      <td>1</td>\n      <td>5</td>\n      <td>33.78</td>\n      <td>1.6</td>\n      <td>8</td>\n      <td>128</td>\n      <td>1.22</td>\n      <td>1244</td>\n    </tr>\n    <tr>\n      <th>4</th>\n      <td>4</td>\n      <td>HP</td>\n      <td>4</td>\n      <td>Full HD</td>\n      <td>2</td>\n      <td>1</td>\n      <td>7</td>\n      <td>39.62</td>\n      <td>1.8</td>\n      <td>8</td>\n      <td>256</td>\n      <td>1.91</td>\n      <td>837</td>\n    </tr>\n  </tbody>\n</table>\n</div>"
          },
          "metadata": {}
        }
      ],
      "execution_count": 37
    },
    {
      "cell_type": "markdown",
      "source": "Data Standardization",
      "metadata": {}
    },
    {
      "cell_type": "code",
      "source": "df[\"Weight_kg\"] = df[\"Weight_kg\"]*2.205\ndf.rename(columns={'Weight_kg':'Weight_pounds'}, inplace=True)",
      "metadata": {
        "trusted": true
      },
      "outputs": [],
      "execution_count": 38
    },
    {
      "cell_type": "code",
      "source": "df[\"Screen_Size_cm\"] = df[\"Screen_Size_cm\"]/2.54\ndf.rename(columns={'Screen_Size_cm':'Screen_Size_inch'}, inplace=True)",
      "metadata": {
        "trusted": true
      },
      "outputs": [],
      "execution_count": 39
    },
    {
      "cell_type": "markdown",
      "source": "Data Normalization",
      "metadata": {}
    },
    {
      "cell_type": "code",
      "source": "df['CPU_frequency'] = df['CPU_frequency']/df['CPU_frequency'].max()",
      "metadata": {
        "trusted": true
      },
      "outputs": [],
      "execution_count": 40
    },
    {
      "cell_type": "markdown",
      "source": "#### Binning",
      "metadata": {}
    },
    {
      "cell_type": "code",
      "source": "bins = np.linspace(min(df[\"Price\"]), max(df[\"Price\"]), 4)\ngroup_names = ['Low', 'Medium', 'High']\ndf['Price-binned'] = pd.cut(df['Price'], bins, labels=group_names, include_lowest=True )",
      "metadata": {
        "trusted": true
      },
      "outputs": [],
      "execution_count": 42
    },
    {
      "cell_type": "code",
      "source": "plt.bar(group_names, df[\"Price-binned\"].value_counts())\nplt.xlabel(\"Price\")\nplt.ylabel(\"count\")\nplt.title(\"Price bins\")",
      "metadata": {
        "trusted": true
      },
      "outputs": [
        {
          "ename": "<class 'AttributeError'>",
          "evalue": "module 'matplotlib' has no attribute 'bar'",
          "traceback": [
            "\u001b[0;31m---------------------------------------------------------------------------\u001b[0m",
            "\u001b[0;31mAttributeError\u001b[0m                            Traceback (most recent call last)",
            "Cell \u001b[0;32mIn[46], line 1\u001b[0m\n\u001b[0;32m----> 1\u001b[0m \u001b[43mplt\u001b[49m\u001b[38;5;241;43m.\u001b[39;49m\u001b[43mbar\u001b[49m(group_names, df[\u001b[38;5;124m\"\u001b[39m\u001b[38;5;124mPrice-binned\u001b[39m\u001b[38;5;124m\"\u001b[39m]\u001b[38;5;241m.\u001b[39mvalue_counts())\n\u001b[1;32m      2\u001b[0m plt\u001b[38;5;241m.\u001b[39mxlabel(\u001b[38;5;124m\"\u001b[39m\u001b[38;5;124mPrice\u001b[39m\u001b[38;5;124m\"\u001b[39m)\n\u001b[1;32m      3\u001b[0m plt\u001b[38;5;241m.\u001b[39mylabel(\u001b[38;5;124m\"\u001b[39m\u001b[38;5;124mcount\u001b[39m\u001b[38;5;124m\"\u001b[39m)\n",
            "File \u001b[0;32m/lib/python3.12/site-packages/matplotlib/_api/__init__.py:222\u001b[0m, in \u001b[0;36mcaching_module_getattr.<locals>.__getattr__\u001b[0;34m(name)\u001b[0m\n\u001b[1;32m    220\u001b[0m \u001b[38;5;28;01mif\u001b[39;00m name \u001b[38;5;129;01min\u001b[39;00m props:\n\u001b[1;32m    221\u001b[0m     \u001b[38;5;28;01mreturn\u001b[39;00m props[name]\u001b[38;5;241m.\u001b[39m\u001b[38;5;21m__get__\u001b[39m(instance)\n\u001b[0;32m--> 222\u001b[0m \u001b[38;5;28;01mraise\u001b[39;00m \u001b[38;5;167;01mAttributeError\u001b[39;00m(\n\u001b[1;32m    223\u001b[0m     \u001b[38;5;124mf\u001b[39m\u001b[38;5;124m\"\u001b[39m\u001b[38;5;124mmodule \u001b[39m\u001b[38;5;132;01m{\u001b[39;00m\u001b[38;5;28mcls\u001b[39m\u001b[38;5;241m.\u001b[39m\u001b[38;5;18m__module__\u001b[39m\u001b[38;5;132;01m!r}\u001b[39;00m\u001b[38;5;124m has no attribute \u001b[39m\u001b[38;5;132;01m{\u001b[39;00mname\u001b[38;5;132;01m!r}\u001b[39;00m\u001b[38;5;124m\"\u001b[39m)\n",
            "\u001b[0;31mAttributeError\u001b[0m: module 'matplotlib' has no attribute 'bar'"
          ],
          "output_type": "error"
        }
      ],
      "execution_count": 46
    },
    {
      "cell_type": "markdown",
      "source": "#### Indicator variables",
      "metadata": {}
    },
    {
      "cell_type": "code",
      "source": "dummy_variable_1 = pd.get_dummies(df[\"Screen\"])\ndummy_variable_1.rename(columns={'IPS Panel':'Screen-IPS_panel', 'Full HD':'Screen-Full_HD'}, inplace=True)\ndf = pd.concat([df, dummy_variable_1], axis=1)\n\n# drop original column \"Screen\" from \"df\"\ndf.drop(\"Screen\", axis = 1, inplace=True)",
      "metadata": {
        "trusted": true
      },
      "outputs": [],
      "execution_count": 47
    },
    {
      "cell_type": "code",
      "source": "df.head()",
      "metadata": {
        "trusted": true
      },
      "outputs": [
        {
          "execution_count": 48,
          "output_type": "execute_result",
          "data": {
            "text/plain": "   Unnamed: 0 Manufacturer  Category  GPU  OS  CPU_core  Screen_Size_inch  \\\n0           0         Acer         4    2   1         5         14.000000   \n1           1         Dell         3    1   1         3         15.598425   \n2           2         Dell         3    1   1         7         15.598425   \n3           3         Dell         4    2   1         5         13.299213   \n4           4           HP         4    2   1         7         15.598425   \n\n   CPU_frequency  RAM_GB  Storage_GB_SSD  Weight_pounds  Price Price-binned  \\\n0       0.551724       8             256        3.52800    978          Low   \n1       0.689655       4             256        4.85100    634          Low   \n2       0.931034       8             256        4.85100    946          Low   \n3       0.551724       8             128        2.69010   1244          Low   \n4       0.620690       8             256        4.21155    837          Low   \n\n   Screen-Full_HD  Screen-IPS_panel  \n0           False              True  \n1            True             False  \n2            True             False  \n3           False              True  \n4            True             False  ",
            "text/html": "<div>\n<style scoped>\n    .dataframe tbody tr th:only-of-type {\n        vertical-align: middle;\n    }\n\n    .dataframe tbody tr th {\n        vertical-align: top;\n    }\n\n    .dataframe thead th {\n        text-align: right;\n    }\n</style>\n<table border=\"1\" class=\"dataframe\">\n  <thead>\n    <tr style=\"text-align: right;\">\n      <th></th>\n      <th>Unnamed: 0</th>\n      <th>Manufacturer</th>\n      <th>Category</th>\n      <th>GPU</th>\n      <th>OS</th>\n      <th>CPU_core</th>\n      <th>Screen_Size_inch</th>\n      <th>CPU_frequency</th>\n      <th>RAM_GB</th>\n      <th>Storage_GB_SSD</th>\n      <th>Weight_pounds</th>\n      <th>Price</th>\n      <th>Price-binned</th>\n      <th>Screen-Full_HD</th>\n      <th>Screen-IPS_panel</th>\n    </tr>\n  </thead>\n  <tbody>\n    <tr>\n      <th>0</th>\n      <td>0</td>\n      <td>Acer</td>\n      <td>4</td>\n      <td>2</td>\n      <td>1</td>\n      <td>5</td>\n      <td>14.000000</td>\n      <td>0.551724</td>\n      <td>8</td>\n      <td>256</td>\n      <td>3.52800</td>\n      <td>978</td>\n      <td>Low</td>\n      <td>False</td>\n      <td>True</td>\n    </tr>\n    <tr>\n      <th>1</th>\n      <td>1</td>\n      <td>Dell</td>\n      <td>3</td>\n      <td>1</td>\n      <td>1</td>\n      <td>3</td>\n      <td>15.598425</td>\n      <td>0.689655</td>\n      <td>4</td>\n      <td>256</td>\n      <td>4.85100</td>\n      <td>634</td>\n      <td>Low</td>\n      <td>True</td>\n      <td>False</td>\n    </tr>\n    <tr>\n      <th>2</th>\n      <td>2</td>\n      <td>Dell</td>\n      <td>3</td>\n      <td>1</td>\n      <td>1</td>\n      <td>7</td>\n      <td>15.598425</td>\n      <td>0.931034</td>\n      <td>8</td>\n      <td>256</td>\n      <td>4.85100</td>\n      <td>946</td>\n      <td>Low</td>\n      <td>True</td>\n      <td>False</td>\n    </tr>\n    <tr>\n      <th>3</th>\n      <td>3</td>\n      <td>Dell</td>\n      <td>4</td>\n      <td>2</td>\n      <td>1</td>\n      <td>5</td>\n      <td>13.299213</td>\n      <td>0.551724</td>\n      <td>8</td>\n      <td>128</td>\n      <td>2.69010</td>\n      <td>1244</td>\n      <td>Low</td>\n      <td>False</td>\n      <td>True</td>\n    </tr>\n    <tr>\n      <th>4</th>\n      <td>4</td>\n      <td>HP</td>\n      <td>4</td>\n      <td>2</td>\n      <td>1</td>\n      <td>7</td>\n      <td>15.598425</td>\n      <td>0.620690</td>\n      <td>8</td>\n      <td>256</td>\n      <td>4.21155</td>\n      <td>837</td>\n      <td>Low</td>\n      <td>True</td>\n      <td>False</td>\n    </tr>\n  </tbody>\n</table>\n</div>"
          },
          "metadata": {}
        }
      ],
      "execution_count": 48
    },
    {
      "cell_type": "code",
      "source": "print(df.head())",
      "metadata": {
        "trusted": true
      },
      "outputs": [
        {
          "name": "stdout",
          "text": "   Unnamed: 0 Manufacturer  Category  GPU  OS  CPU_core  Screen_Size_inch  \\\n0           0         Acer         4    2   1         5         14.000000   \n1           1         Dell         3    1   1         3         15.598425   \n2           2         Dell         3    1   1         7         15.598425   \n3           3         Dell         4    2   1         5         13.299213   \n4           4           HP         4    2   1         7         15.598425   \n\n   CPU_frequency  RAM_GB  Storage_GB_SSD  Weight_pounds  Price Price-binned  \\\n0       0.551724       8             256        3.52800    978          Low   \n1       0.689655       4             256        4.85100    634          Low   \n2       0.931034       8             256        4.85100    946          Low   \n3       0.551724       8             128        2.69010   1244          Low   \n4       0.620690       8             256        4.21155    837          Low   \n\n   Screen-Full_HD  Screen-IPS_panel  \n0           False              True  \n1            True             False  \n2            True             False  \n3           False              True  \n4            True             False  \n",
          "output_type": "stream"
        }
      ],
      "execution_count": 49
    },
    {
      "cell_type": "code",
      "source": "",
      "metadata": {
        "trusted": true
      },
      "outputs": [],
      "execution_count": null
    }
  ]
}