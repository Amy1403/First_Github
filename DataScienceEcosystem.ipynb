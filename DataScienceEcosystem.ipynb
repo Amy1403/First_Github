{
 "cells": [
  {
   "cell_type": "markdown",
   "id": "27756f3d-0134-4bc2-8b72-0c0a6e2c5dde",
   "metadata": {},
   "source": [
    "# Data Science Tools and Ecosystem"
   ]
  },
  {
   "cell_type": "markdown",
   "id": "391bada0-ba1c-45e1-97f1-cb8f15e4523b",
   "metadata": {},
   "source": [
    "In this notebook, Data Science Tools and Ecosystem are summarized."
   ]
  },
  {
   "cell_type": "markdown",
   "id": "ae4ef943-4105-405d-afe0-106c3a7dc447",
   "metadata": {},
   "source": [
    "## Objectives:\n",
    "-List popular languages for Data Science\n",
    "-Libraries used in Data science\n",
    "-how jupyter notebook is used\n",
    "-Applications of R language"
   ]
  },
  {
   "cell_type": "markdown",
   "id": "1a822fb4-018c-4f29-8649-ad03d108c991",
   "metadata": {},
   "source": [
    "Some of the popular languages that Data Scientists use are:\n",
    "1. R statistical language\n",
    "2. Python\n",
    "3. Julia\n",
    "4. Java\n",
    "5. SQL\n",
    "6. MATLAB"
   ]
  },
  {
   "cell_type": "code",
   "execution_count": null,
   "id": "ea936307-4997-4995-b094-c1b7ce371b50",
   "metadata": {},
   "outputs": [],
   "source": []
  },
  {
   "cell_type": "markdown",
   "id": "c0937d1c-591b-484e-992f-149e19ce4ad6",
   "metadata": {},
   "source": [
    "Some of the commonly used libraries used by Data Scientists include:\n",
    "1. NumPy\n",
    "2. Pandas\n",
    "3. matplotlib\n",
    "4. Seaborn"
   ]
  },
  {
   "cell_type": "markdown",
   "id": "b3392ef7-bd6f-48be-804d-abc8ea43ecd7",
   "metadata": {},
   "source": [
    "|Numbers|Data Science Tools|\n",
    "|-------|-------------------|\n",
    "|1|Jupyter|\n",
    "|2|R studio|\n",
    "|3|Spyder|"
   ]
  },
  {
   "cell_type": "markdown",
   "id": "4b374b8b-9990-4224-a542-55cf61f3ed57",
   "metadata": {},
   "source": []
  },
  {
   "cell_type": "markdown",
   "id": "54caec0a-6883-4c95-ba9e-cc0a549ba13d",
   "metadata": {},
   "source": []
  },
  {
   "cell_type": "markdown",
   "id": "135238c4-e879-4764-a0a4-5d4bfc385b42",
   "metadata": {},
   "source": [
    "### Below are a few examples of evaluating arithmetic expressions in Python\n",
    "2 + 6 "
   ]
  },
  {
   "cell_type": "markdown",
   "id": "7ecaa132-3bac-4a26-a87a-1df4902f591d",
   "metadata": {},
   "source": [
    "2 * 5 "
   ]
  },
  {
   "cell_type": "code",
   "execution_count": null,
   "id": "497ddeec-5c2a-4d21-bb85-9ed4269ea87b",
   "metadata": {},
   "outputs": [],
   "source": [
    "#This will convert 200 minutes to hours by diving by 60.\n",
    "min=int(input(\"200\"))\n",
    "h=min//60."
   ]
  },
  {
   "cell_type": "code",
   "execution_count": 1,
   "id": "67d19952-2c42-479a-88d3-9c6895a08b25",
   "metadata": {},
   "outputs": [
    {
     "data": {
      "text/plain": [
       "17"
      ]
     },
     "execution_count": 1,
     "metadata": {},
     "output_type": "execute_result"
    }
   ],
   "source": [
    "#This a simple arithmetic expression to mutiply then add integers\n",
    "(3*4)+5"
   ]
  },
  {
   "cell_type": "code",
   "execution_count": null,
   "id": "bb32cf8d-92fd-4bad-8609-25991d948e23",
   "metadata": {},
   "outputs": [],
   "source": [
    "(3*4)+5"
   ]
  },
  {
   "cell_type": "markdown",
   "id": "4947a2ba-ec23-447f-9b9a-5061972e7cfd",
   "metadata": {},
   "source": [
    "## AUTHORS NAME\n",
    "AMARACHUKWU PEACE OGBONNA\n"
   ]
  },
  {
   "cell_type": "code",
   "execution_count": null,
   "id": "936fbd4a-eb2f-4b2e-a85d-6bc718ad7f0a",
   "metadata": {},
   "outputs": [],
   "source": []
  }
 ],
 "metadata": {
  "kernelspec": {
   "display_name": "Python 3 (ipykernel)",
   "language": "python",
   "name": "python3"
  },
  "language_info": {
   "codemirror_mode": {
    "name": "ipython",
    "version": 3
   },
   "file_extension": ".py",
   "mimetype": "text/x-python",
   "name": "python",
   "nbconvert_exporter": "python",
   "pygments_lexer": "ipython3",
   "version": "3.12.4"
  }
 },
 "nbformat": 4,
 "nbformat_minor": 5
}
