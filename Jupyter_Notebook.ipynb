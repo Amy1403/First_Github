{
 "cells": [
  {
   "cell_type": "markdown",
   "metadata": {
    "tags": []
   },
   "source": [
    "#### Add your code below following the instructions given in the course\n"
   ]
  },
  {
   "cell_type": "markdown",
   "metadata": {
    "tags": []
   },
   "source": [
    "NO2\n",
    "# DATA SCIENCE TOOLS"
   ]
  },
  {
   "cell_type": "markdown",
   "metadata": {},
   "source": [
    "NO3\n",
    "### Introduction to data science\n",
    "In this course I learnt about the categories of data science, tools for data scince, applications that are open source and how these applications are run on the PC"
   ]
  },
  {
   "cell_type": "markdown",
   "metadata": {
    "tags": []
   },
   "source": [
    "NO4\n",
    "#### Data Science languages\n",
    "\n",
    "1. python\n",
    "2. SQL\n",
    "3. Julia\n",
    "4. Java Script\n",
    "5. R\n",
    "6. Scala\n",
    "7. C++\n",
    "8. Matlab"
   ]
  },
  {
   "cell_type": "markdown",
   "metadata": {
    "tags": []
   },
   "source": [
    "NO5\n",
    "#### Data Science Libraries\n",
    "1. Numpy\n",
    "2. Pandas\n",
    "3. Matplotlib\n",
    "4. Seaborn\n",
    "5. Keras\n",
    "6. Tensor flow\n",
    "7. Pytorch\n",
    "8. Scit-kit learn"
   ]
  },
  {
   "cell_type": "markdown",
   "metadata": {
    "tags": []
   },
   "source": [
    "NO 6\n",
    "Data Science tools\n",
    "|Number|Data Science tools|\n",
    "|------|------------------|\n",
    "|1|Jupyter|\n",
    "|2|R studio|\n",
    "|3|Pixiedust|\n",
    "|4|Github|\n",
    "|5|Airflow|\n",
    "|6|MangoDB|\n",
    "|7|Apacha nifi|"
   ]
  },
  {
   "cell_type": "code",
   "execution_count": null,
   "metadata": {},
   "outputs": [],
   "source": []
  },
  {
   "cell_type": "markdown",
   "metadata": {
    "tags": []
   },
   "source": [
    "#### Arithematic expression \n",
    "2+4"
   ]
  },
  {
   "cell_type": "markdown",
   "metadata": {
    "tags": []
   },
   "source": [
    "5*3"
   ]
  },
  {
   "cell_type": "code",
   "execution_count": 2,
   "metadata": {
    "tags": []
   },
   "outputs": [
    {
     "data": {
      "text/plain": [
       "16"
      ]
     },
     "execution_count": 2,
     "metadata": {},
     "output_type": "execute_result"
    }
   ],
   "source": [
    "(3*4)+4"
   ]
  },
  {
   "cell_type": "code",
   "execution_count": 3,
   "metadata": {
    "tags": []
   },
   "outputs": [],
   "source": [
    "minutes = 330 % 60\n",
    "hours = 330 // 60"
   ]
  },
  {
   "cell_type": "code",
   "execution_count": 4,
   "metadata": {
    "tags": []
   },
   "outputs": [
    {
     "name": "stdout",
     "output_type": "stream",
     "text": [
      "5\n"
     ]
    }
   ],
   "source": [
    "print(hours)"
   ]
  },
  {
   "cell_type": "markdown",
   "metadata": {},
   "source": [
    "#### objectives\n",
    "1. popular languages in Data science\n",
    "2. Tools used in data scince\n",
    "3. Libraries used in data science\n",
    "4. use of Jupyter notebook\n",
    "5. Applications of R language"
   ]
  },
  {
   "cell_type": "markdown",
   "metadata": {
    "tags": []
   },
   "source": [
    "## AUTHOR'S NAME\n",
    "AMARACHUKWU PEACE OGBONNA-ONUOHA"
   ]
  },
  {
   "cell_type": "code",
   "execution_count": null,
   "metadata": {},
   "outputs": [],
   "source": []
  }
 ],
 "metadata": {
  "kernelspec": {
   "display_name": "Python",
   "language": "python",
   "name": "conda-env-python-py"
  },
  "language_info": {
   "codemirror_mode": {
    "name": "ipython",
    "version": 3
   },
   "file_extension": ".py",
   "mimetype": "text/x-python",
   "name": "python",
   "nbconvert_exporter": "python",
   "pygments_lexer": "ipython3",
   "version": "3.7.12"
  }
 },
 "nbformat": 4,
 "nbformat_minor": 4
}
